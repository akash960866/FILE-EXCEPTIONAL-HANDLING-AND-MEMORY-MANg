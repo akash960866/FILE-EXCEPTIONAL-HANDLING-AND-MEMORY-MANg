{
 "cells": [
  {
   "cell_type": "code",
   "execution_count": 4,
   "id": "5ec4330f-0163-4176-a820-161da196aba8",
   "metadata": {},
   "outputs": [
    {
     "name": "stdout",
     "output_type": "stream",
     "text": [
      "4.0\n"
     ]
    }
   ],
   "source": [
    "#************Files, exceptional handling, logging andmemory management Questions****************\n",
    "#(1) What is the difference between interpreted and compiled languages?\n",
    "#    Difference Between Interpreted and Compiled Languages\n",
    "#    Programming languages are categorized as interpreted or compiled based on how they execute code.\n",
    "\n",
    "#    Feature\t         Interpreted Language\t              Compiled Language\n",
    "#    Execution Method\t Executes code line by        \t      Converts entire code into \n",
    "#                        line using an interpreter            line using an interpreter\n",
    "#    Speed\t            Slower (executes code at runtime)\t   Faster (precompiled into machine code)\n",
    "#    Error Handling\t     Errors appear during execution\t       Errors appear during compilation\n",
    "#    Portability\t     More portable (runs on any \t       Less portable (needs recompilation for different platforms)\n",
    "#                         system with an interpreter)\n",
    "#    Examples\t         Python, JavaScript, PHP\t            C, C++, Java (JVM-based), Go\n",
    "\n",
    "#(2) What is exception handling in Python?\n",
    "#    Exception handling in Python is a mechanism to handle runtime errors and prevent program crashes.\n",
    "#    An exception is an error that occurs during program execution. Common exceptions include:\n",
    "#    ZeroDivisionError → Division by zero\n",
    "#    FileNotFoundError → File not found\n",
    "#    ValueError → Invalid data type\n",
    "\n",
    "#(3) What is the purpose of the finally block in exception handling?\n",
    "#    The finally block in exception handling is used to define a block of code that will always be executed,\n",
    "#    regardless of whether an exception is raised or not. It is commonly used to perform cleanup actions, such as \n",
    "#    closing files or releasing resources, that must be executed no matter what happens in the try and except blocks.\n",
    "\n",
    "#    Key Features of finally\n",
    "#    Ensures important code always executes (e.g., closing files, releasing resources).\n",
    "#    Runs after try-except, even if an error occurs.\n",
    "#    Helps prevent resource leaks in file handling, database connections, etc.\n",
    "\n",
    "#(4)  What is logging in Python?\n",
    "#     Logging in Python refers to the process of recording events or messages that occur during the execution of a program.\n",
    "#     It provides a way to track the flow of a program, diagnose issues, and capture important information for debugging and analysis. \n",
    "#     The logging module in Python offers a flexible framework for creating log messages with different severity levels, such as\n",
    "#     DEBUG, INFO, WARNING, ERROR, and CRITICAL. By using logging, developers can generate informative logs that help in monitoring\n",
    "#     and troubleshooting their applications, making it easier to understand what the program is doing and identify any potential problems.\n",
    "#     Helps in debugging and tracking errors.\n",
    "#     Stores important runtime information.\n",
    "#     Replaces print() statements for better code management.\n",
    "#     Supports different levels of severity (info, warning, error, etc.).\n",
    "\n",
    "#(5) What is the significance of the __del__ method in Python?\n",
    "#    The __del__ method in Python is a special method known as a destructor. It is called when an object is about to be destroyed and\n",
    "#    allows for cleanup actions such as releasing resources or performing other finalization tasks. The primary purpose of the \n",
    "#     __del__ method is to define custom behavior that should be executed when an object is being garbage collected. However, its use\n",
    "#    is generally discouraged in favor of context managers and the with statement for more predictable resource management and cleanup.\n",
    "\n",
    "#(6)  What is the difference between import and from ... import in Python?\n",
    "#     Python, import and from ... import are used to bring external modules or specific attributes from a module into your current \n",
    "#     namespace. Here's the difference:\n",
    "\n",
    "#    import statement\n",
    "#    Purpose: Imports the entire module.\n",
    "#     Usage: You need to use the module name to access its functions or variables.\n",
    "#     Example:\n",
    "import math\n",
    "print(math.sqrt(16))  # Output: 4.0\n"
   ]
  },
  {
   "cell_type": "code",
   "execution_count": 6,
   "id": "e5256895-a726-459c-a65d-e0ecb6991c36",
   "metadata": {},
   "outputs": [
    {
     "name": "stdout",
     "output_type": "stream",
     "text": [
      "4.0\n"
     ]
    }
   ],
   "source": [
    "#    from ... import statement\n",
    "#   Purpose: Imports specific attributes (functions, classes, variables) from a module.\n",
    "#    Usage: You can directly use the imported attributes without the module name.\n",
    "#   Example:\n",
    "from math import sqrt\n",
    "print(sqrt(16))  # Output: 4.0"
   ]
  },
  {
   "cell_type": "code",
   "execution_count": null,
   "id": "530bb99f-d4da-43fe-8efd-4939a5aa1b5b",
   "metadata": {},
   "outputs": [],
   "source": [
    "#(7) How can you handle multiple exceptions in Python?\n",
    "#    multiple exceptions can be handled using various techniques to ensure a program runs smoothly without unexpected crashes. \n",
    "#    The try block contains the code that may raise an exception, while the except block catches and handles specific errors.\n",
    "#    Multiple except blocks can be used to handle different types of exceptions separately. Alternatively, a single except block \n",
    "#    with a tuple can catch multiple exceptions at once. A generic except Exception block can catch all exceptions but is generally \n",
    "#    discouraged due to debugging difficulties. The else block executes only if no exceptions occur. The finally block always executes,\n",
    "#    regardless of whether an exception was raised. Using finally is useful for resource cleanup, like closing files or database \n",
    "#    connections. Handling exceptions properly ensures robust and error-free programs. It also improves code readability and maintainability.\n",
    "\n",
    "#(8) What is the purpose of the with statement when handling files in Python?\n",
    "#    The with statement in Python is used for handling files efficiently by ensuring proper resource management. Its main purpose is \n",
    "#    to automatically close the file after its block is executed, even if an error occurs. This eliminates the need for manually\n",
    "#    calling file.close(), reducing the risk of resource leaks.\n",
    "\n",
    "#    Benefits of Using with for File Handling\n",
    "#    Automatic Resource Management – Closes files automatically after execution.\n",
    "#    Prevents Memory Leaks – Ensures proper cleanup, even if an error occurs.\n",
    "#    Cleaner Code – Reduces the need for file.close(), making the code more readable.\n",
    "#    Handles Exceptions Gracefully – Ensures safe file handling without additional try-finally blocks.\n",
    "\n",
    "#(9) What is the difference between multithreading and multiprocessing?\n",
    "#    Multithreading vs. Multiprocessing:\n",
    "#    Multithreading:\n",
    "#    Purpose: Allows multiple threads (smaller units of a process) to run concurrently within a single process.\n",
    "#    Shared Memory: Threads share the same memory space, making it easier to share data between threads.\n",
    "#    Overhead: Less memory overhead compared to multiprocessing because threads within the same process share resources.\n",
    "#    Use Case: Suitable for I/O-bound tasks, such as reading/writing files or network operations, where tasks spend time waiting for external events.\n",
    "\n",
    "#    Multiprocessing:\n",
    "#    Purpose: Allows multiple processes (independent execution units) to run concurrently, each with its own memory space.\n",
    "#    Isolated Memory: Processes have separate memory spaces, which can prevent issues like data corruption but require explicit communication\n",
    "#    mechanisms (e.g., pipes, queues).\n",
    "#    Overhead: More memory overhead because each process has its own resources.\n",
    "#    Use Case: Suitable for CPU-bound tasks, such as complex calculations, where tasks require substantial CPU time and benefit from parallel\n",
    "#    execution across multiple cores.\n",
    "\n",
    "#(10) What are the advantages of using logging in a program? \n",
    "#      Using logging in a program offers several advantages:\n",
    "#      Debugging: Helps in identifying and diagnosing issues by providing detailed information about the program's execution flow.\n",
    "#      Monitoring: Allows continuous monitoring of the application's performance, enabling proactive maintenance and performance tuning.\n",
    "#      Audit Trail: Creates a record of events and user actions, which can be crucial for security audits and compliance purposes.\n",
    "#      Error Tracking: Facilitates tracking and recording of errors and exceptions, making it easier to handle and resolve them.\n",
    "#      Flexibility: Offers configurable logging levels (DEBUG, INFO, WARNING, ERROR, CRITICAL) to control the \n",
    "#      granularity and type of information recorded.\n",
    "#      Persistent Storage: Logs can be stored in files or databases, providing a historical record that can be reviewed later.\n",
    "#      Communication: Helps in communicating the status and issues of the program to developers, administrators, and support teams.\n",
    "#      Transparency: Increases the transparency of the application's internal processes, making it easier to understand and maintain the code.\n",
    "#      Performance Analysis: Assists in performance analysis by capturing data on execution times and resource usage.\n",
    "\n",
    "#(11) What is memory management in Python? \n",
    "#     Memory management in Python is the process of allocating, using, and deallocating memory for objects and data during program execution. \n",
    "#     It is handled automatically by Python's built-in memory manager, which includes techniques like:\n",
    "#     Reference Counting: Python keeps track of the number of references to an object and automatically frees memory when the reference \n",
    "#     count drops to zero.\n",
    "#     Garbage Collection: Python's garbage collector identifies and removes unreachable or unused objects to reclaim memory.\n",
    "#     Private Heap: All Python objects and data structures are stored in a private heap, managed by the interpreter.\n",
    "#     Dynamic Memory Allocation: Memory is allocated dynamically at runtime, allowing flexible usage.\n",
    "\n",
    "#(12) What are the basic steps involved in exception handling in Python?\n",
    "#     the basic steps involved in exception handling in Python:\n",
    "#     Code Block with Potential Errors: Wrap the code that might cause an exception in a try block.\n",
    "#     Handling Exceptions: Use one or more except blocks to catch and handle specific exceptions raised within the try block.\n",
    "#     Optional Else Block: Add an else block (if needed) to execute code that should run only if no exception occurs.\n",
    "#     Cleanup with Finally: Use a finally block to define code that will always run, regardless of whether an exception is raised \n",
    "#     or not (e.g., resource cleanup).\n",
    "#     Raising Exceptions (Optional): Use the raise keyword if you need to manually trigger an exception.\n",
    "#     These steps help ensure your program can handle errors gracefully and continue running wherever possible.\n",
    "\n",
    "#(13) Why is memory management important in Python? \n",
    "#     Prevents Memory Leaks: By managing object references and deallocating unused memory, Python avoids\n",
    "#     memory consumption issues that could slow down or crash programs.\n",
    "#     Enhances Performance: Optimizing memory usage speeds up program execution and ensures resources are available for other operations.\n",
    "#     Supports Scalability: Efficient memory handling is vital for applications dealing with large data or running on limited resources.\n",
    "#     Simplifies Programming: Python’s automatic garbage collection reduces the programmer's burden of manually managing memory,\n",
    "#     allowing focus on logic and functionality.\n",
    "#     In essence, memory management helps maintain a balance between resource usage and application performance. \n",
    "     \n",
    "\n",
    "#(14) What is the role of try and except in exception handling? \n",
    "#     The try and except blocks are the core of exception handling in Python, ensuring your program can gracefully recover from errors:\n",
    "#     try Block: Contains the code that might raise an exception. Python executes this block and checks for errors.\n",
    "#     except Block: Specifies how to handle specific exceptions if they occur in the try block. If an exception arises, \n",
    "#     the corresponding except block is executed, preventing the program from crashing\n",
    "\n",
    "#(15) How does Python's garbage collection system work?\n",
    "#     Python's garbage collection system is responsible for automatically managing memory by reclaiming unused or inaccessible objects.\n",
    "#     Here's how it works:\n",
    "#     Reference Counting: Python tracks the number of references to each object. When an object's reference count drops to zero \n",
    "#    (no references point to it), the memory occupied by the object is released.\n",
    "#     Garbage Collector: Python also has a garbage collector to handle objects involved in cyclic references (where two or more \n",
    "#     objects reference each other, preventing reference counts from reaching zero). The garbage collector uses algorithms like\n",
    "#     generational garbage collection to identify and clean up these cycles.\n",
    "#     Generational Model: Objects are divided into generations based on their lifespan. Younger objects are collected more frequently \n",
    "#     than older objects because they are more likely to become unused sooner.\n",
    "#     By automating memory management, Python reduces the burden on developers and ensures efficient resource utilization. Let me know\n",
    "#     if you'd like a deeper dive into any of these mechanisms!\n",
    "\n",
    "#(16) What is the purpose of the else block in exception handling? \n",
    "#    The else block in exception handling is used to define code that should run only if no exceptions were raised in the try block.\n",
    "#   Here’s how it works:\n",
    "#    try: You put the code that might raise an exception here.\n",
    "#    except: This block handles exceptions if they occur in the try block.\n",
    "#    else: This block runs only if the try block didn’t raise any exceptions.\n",
    "#    finally: Runs no matter what, whether an exception occurred or not.\n",
    "#    Purpose of the else block:\n",
    "#    To separate the \"normal\" code that should only run if no errors occurred.\n",
    "#    Helps improve readability by keeping the try block focused on risky operations and moving the follow-up logic to else.\n",
    "\n",
    "#(17) What are the common logging levels in Python?\n",
    "#    he logging module provides several standard logging levels that indicate the severity of events. Here are the common\n",
    "#    ones, from lowest to highest severity:\n",
    "\n",
    "#    Common Logging Levels:\n",
    "#DEBUG (10)\n",
    "#     Detailed information, useful for diagnosing problems.\n",
    "#     Example: \"Variable x = 42\"\n",
    "#INFO (20)\n",
    "#     Confirmation that things are working as expected.\n",
    "#     Example: \"Server started successfully.\"\n",
    "#WARNING (30)\n",
    "#     Something unexpected happened or may cause problems later, but the program is still running.\n",
    "#     Example: \"Low disk space.\"\n",
    "#ERROR (40)\n",
    "#     A more serious problem; the program couldn't perform a certain function.\n",
    "#     Example: \"Failed to open file.\"\n",
    "#CRITICAL (50)\n",
    "#     A very serious error, the program may not be able to continue running.\n",
    "#     Example: \"System crash imminent!\"\n",
    "\n",
    "#(18) What is the difference between os.fork() and multiprocessing in Python?\n",
    "#      Both os.fork() and the multiprocessing module are used to create child processes in Python, but they are very different in how they work and how they should be used.\n",
    "\n",
    "#      1. os.fork()\n",
    "#     Low-level system call available on Unix/Linux systems.\n",
    "#     It creates a child process by duplicating the current process.\n",
    "#     The child process is an exact copy of the parent process at the time of the fork.\n",
    "#     It’s not cross-platform (won't work on Windows).\n",
    "#     After a fork, both the parent and child continue execution independently.\n",
    "#     You need to manually handle inter-process communication (IPC) like pipes or sockets.\n",
    "\n",
    "#      multiprocessing module\n",
    "#     High-level library built on top of os.fork() (on Unix) and uses other methods (like spawn) on Windows.\n",
    "#     Cross-platform (works on Windows, Linux, macOS).\n",
    "#     Provides an API similar to threading but for processes.\n",
    "#     It comes with built-in tools for IPC like Queue, Pipe, Manager, Value, and Array.\n",
    "#     Easier and safer to use compared to raw fork().\n",
    "\n",
    "#      Feature\t            os.fork()\t                           multiprocessing\n",
    "#      Level\t            Low-level (system call)\t               High-level (Python library)\n",
    "#      Portability\t        Unix/Linux only                     \tCross-platform (Windows, Linux)\n",
    "#      Ease of Use\t       Complex (manual IPC)\t                   Easy (has built-in IPC mechanisms)\n",
    "#      Code Maintenance\t   Harder to maintain/debug\t                Easier to manage/debug\n",
    "#      Flexibility\t       Only forks the current process\t       Can start processes with any function\n",
    "\n",
    "#(19) What is the importance of closing a file in Python\n",
    "#     1. Freeing System Resources\n",
    "#     Every open file consumes system resources (file descriptors, memory).\n",
    "#     Closing the file frees up these resources, preventing resource leaks.\n",
    "#     2. Data Integrity\n",
    "#     When you write to a file, data is often first stored in a buffer (temporary memory).\n",
    "#     Closing the file ensures the buffer is flushed (i.e., all data is actually written to the file on disk).\n",
    "#     If you don’t close it, you risk losing unsaved data.\n",
    "#     3. Avoid File Locking Issues\n",
    "#     On some systems, files stay locked when open.\n",
    "#     Not closing files properly may prevent other processes or parts of your program from accessing them.\n",
    "#    4. Preventing Errors\n",
    "#    Leaving too many files open can hit the OS file descriptor limit, causing errors like:\n",
    "#    Too many open files\"\n",
    "\n",
    "#(20) What is the difference between file.read() and file.readline() in Python?\n",
    "#     file.read():\n",
    "\n",
    "#    Purpose: Reads the entire content of the file (or a specified number of characters if a size is provided).\n",
    "#    Output: Returns the content as a single string.\n",
    "#    Case: Suitable for reading the whole file at once or a specific number of characters.\n",
    "\n",
    "#    file.readline():\n",
    "\n",
    "#    Purpose: Reads only one line from the file at a time.\n",
    "#    Output: Returns the line as a string, including the newline character (\\n) at the end (unless it's the last line).\n",
    "#    Use Case: Ideal for processing files line by line, especially for large files.\n",
    "#    Key Difference: While file.read() reads the whole file (or a specified portion), file.readline() focuses on reading\n",
    "#    one line at a time. This makes file.readline() more memory-efficient for line-by-line processing.\n",
    "\n",
    "#(21) What is the logging module in Python used for?\n",
    "#    The logging module in Python is used to record/log messages that describe events happening in your program. \n",
    "#    It’s super handy for debugging, monitoring, and auditing your applications.\n",
    "#     Purpose of the logging module:\n",
    "#     Track events while your code runs (e.g., errors, warnings, info).\n",
    "#     Diagnose problems by keeping logs instead of just printing to the console.\n",
    "#     Keep a permanent record of events by writing logs to files.\n",
    "#     Helps in troubleshooting production issues without disrupting the user experience.\n",
    "#     Supports different severity levels (DEBUG, INFO, WARNING, ERROR, CRITICAL).\n",
    "#     Can be configured to log messages to console, files, emails, HTTP servers, etc.\n",
    "\n",
    "#(22) What is the os module in Python used for in file handling?\n",
    "#     The os module in Python is widely used for performing file and directory-related operations. In file handling,\n",
    "#     it provides tools to interact with the operating system, allowing you to:\n",
    "#      Access File System: Create, delete, or move files and directories.\n",
    "#      File Attributes: Retrieve or modify metadata like file size, permissions, or timestamps.\n",
    "#      Path Operations: Handle file paths, such as joining, splitting, or normalizing them.\n",
    "#      File Manipulation: Open, close, rename, or remove files programmatically.\n",
    "#      Directory Navigation: Change the working directory or list the contents of a folder.\n",
    "#     These utilities make the os module essential for automating and managing file-related tasks in Python program\n",
    "\n",
    "#(23) What are the challenges associated with memory management in Python?\n",
    "#    Memory management in Python is largely automated, but there are several challenges associated with it:\n",
    "#    Cyclic References: When objects reference each other, the garbage collector may face difficulty identifying them as unused,\n",
    "#    leading to memory leaks.\n",
    "#    Memory Overhead: Python's dynamic nature and memory allocator introduce some overhead, which might make it less memory-efficient\n",
    "#    than lower-level languages.\n",
    "#    Global Interpreter Lock (GIL): The GIL restricts true parallel execution of threads, which can affect efficient memory utilization\n",
    "#    in multi-threaded programs.\n",
    "#    Fragmentation: Frequent memory allocation and deallocation can lead to fragmentation, reducing available contiguous memory blocks.\n",
    "#    Manual Interventions: Although automated, situations like explicit deletion (del) or forcing garbage collection may still require \n",
    "#    developer oversight for optimized memory use.\n",
    "#    Scalability: Applications dealing with large datasets or extensive memory demands need careful design to handle memory constraints efficiently.\n",
    "\n",
    "#(24) How do you raise an exception manually in Python? \n",
    "#     To raise an exception manually in Python, you use the raise keyword. It allows you to create and trigger an exception\n",
    "#     deliberately to signal an error or abnormal condition in your program. You can specify the type of exception \n",
    "#     (e.g., ValueError, TypeError, or a custom exception) and optionally provide a message to describe the error.\n",
    "#     For example:\n",
    "#     raise ValueError(\"This is a manually raised exception\")\n",
    "#     This immediately stops the program's execution and raises the specified exception, which you can handle using a try and\n",
    "#     except block. Let me know if you need further clarification or examples!\n",
    "\n",
    "#(25) Why is it important to use multithreading in certain applications?\n",
    "#     Multithreading is important in certain applications because it allows for concurrent execution of tasks, improving performance \n",
    "#     and efficiency. Here's why it matters:\n",
    "#     improved Responsiveness: In applications like GUIs or web servers, multithreading ensures that one thread can handle user inputs\n",
    "#     while others perform background tasks, keeping the application responsive.\n",
    "#     Efficient I/O Operations: For I/O-bound tasks (e.g., reading/writing files or making network requests), multithreading allows \n",
    "#     the program to perform other operations while waiting for I/O operations to complete.\n",
    "#     Parallel Execution: Although Python’s GIL limits true parallelism in threads for CPU-bound tasks, multithreading is still useful\n",
    "#     in I/O-bound applications. In other languages or systems, it allows CPU-bound tasks to fully utilize multiple cores.\n",
    "#     Simplifies Code: For problems involving overlapping tasks, multithreading can provide a cleaner and more straightforward implementation\n",
    "#     compared to alternative solutions like event-driven programming.\n",
    "#     Resource Sharing: Threads within the same process share memory and resources, which makes inter-thread communication\n",
    "#     more efficient compared to inter-process communication in multiprocessing.\n"
   ]
  },
  {
   "cell_type": "code",
   "execution_count": 8,
   "id": "0edb654c-23bb-4bb3-a45b-1e48270ce2e5",
   "metadata": {},
   "outputs": [
    {
     "name": "stdout",
     "output_type": "stream",
     "text": [
      "The history saving thread hit an unexpected error (OperationalError('attempt to write a readonly database')).History will not be written to the database.\n"
     ]
    }
   ],
   "source": [
    "#***********************************Practical Questions******************************\n",
    "\n",
    "#(1) How can you open a file for writing in Python and write a string to it?\n",
    "file = open(\"example.txt\", \"w\")  # Open file in write mode\n",
    "file.write(\"Hello, this is a string written to the file.\")\n",
    "file.close()  # Always close the file after writing\n"
   ]
  },
  {
   "cell_type": "code",
   "execution_count": 10,
   "id": "b1e32072-c519-47e3-af6f-878ef4d67920",
   "metadata": {},
   "outputs": [
    {
     "name": "stdout",
     "output_type": "stream",
     "text": [
      "Hello, this is a string written to the file.\n"
     ]
    }
   ],
   "source": [
    "#(2) Write a Python program to read the contents of a file and print each line.\n",
    "# Open the file in read mode\n",
    "with open(\"example.txt\", \"r\") as file:\n",
    "    # Loop through each line in the file\n",
    "    for line in file:\n",
    "        print(line.strip())  # .strip() removes the newline character\n"
   ]
  },
  {
   "cell_type": "code",
   "execution_count": 12,
   "id": "5c2e53f3-243b-4dce-9b91-4d4cdf3bf049",
   "metadata": {},
   "outputs": [
    {
     "name": "stdout",
     "output_type": "stream",
     "text": [
      "Hello, this is a string written to the file.\n"
     ]
    }
   ],
   "source": [
    "#(3) How would you handle a case where the file doesn't exist while trying to open it for reading?\n",
    "try:\n",
    "    with open(\"example.txt\", \"r\") as file:\n",
    "        for line in file:\n",
    "            print(line.strip())\n",
    "except FileNotFoundError:\n",
    "    print(\"Error: The file does not exist!\")\n"
   ]
  },
  {
   "cell_type": "code",
   "execution_count": 14,
   "id": "28949757-d39c-4f6e-9f17-db2c7cb81dbf",
   "metadata": {},
   "outputs": [
    {
     "name": "stdout",
     "output_type": "stream",
     "text": [
      "Error: The source file does not exist.\n"
     ]
    }
   ],
   "source": [
    "#(4) Write a Python script that reads from one file and writes its content to another file.\n",
    "# Read from source file and write to destination file\n",
    "try:\n",
    "    with open(\"source.txt\", \"r\") as src_file:\n",
    "        with open(\"destination.txt\", \"w\") as dest_file:\n",
    "            for line in src_file:\n",
    "                dest_file.write(line)\n",
    "    print(\"File content copied successfully!\")\n",
    "except FileNotFoundError:\n",
    "    print(\"Error: The source file does not exist.\")\n",
    "except Exception as e:\n",
    "    print(f\"An unexpected error occurred: {e}\")\n"
   ]
  },
  {
   "cell_type": "code",
   "execution_count": 16,
   "id": "7762b772-b878-4384-9e62-a80adbfbff05",
   "metadata": {},
   "outputs": [
    {
     "name": "stdout",
     "output_type": "stream",
     "text": [
      "Error: You cannot divide by zero!\n"
     ]
    }
   ],
   "source": [
    "#(5)  How would you catch and handle division by zero error in Python?\n",
    "try:\n",
    "    num = 10\n",
    "    denom = 0\n",
    "    result = num / denom\n",
    "except ZeroDivisionError:\n",
    "    print(\"Error: You cannot divide by zero!\")\n",
    "else:\n",
    "    print(\"The result is:\", result)\n"
   ]
  },
  {
   "cell_type": "code",
   "execution_count": 18,
   "id": "145c10a3-b252-45a9-91fb-8c8f2bd728f9",
   "metadata": {},
   "outputs": [
    {
     "name": "stdout",
     "output_type": "stream",
     "text": [
      "An error occurred. Check 'error_log.txt' for details.\n"
     ]
    }
   ],
   "source": [
    "#(6) Write a Python program that logs an error message to a log file when a division by zero exception occurs.\n",
    "import logging\n",
    "\n",
    "# Configure logging to write to a file\n",
    "logging.basicConfig(filename='error_log.txt', level=logging.ERROR, \n",
    "                    format='%(asctime)s - %(levelname)s - %(message)s')\n",
    "\n",
    "try:\n",
    "    num = 10\n",
    "    denom = 0\n",
    "    result = num / denom\n",
    "except ZeroDivisionError as e:\n",
    "    logging.error(\"Division by zero error occurred: %s\", e)\n",
    "    print(\"An error occurred. Check 'error_log.txt' for details.\")\n"
   ]
  },
  {
   "cell_type": "code",
   "execution_count": 20,
   "id": "d84d72e5-4733-4810-8d15-04e89d03d84b",
   "metadata": {},
   "outputs": [],
   "source": [
    "#(7) How do you log information at different levels (INFO, ERROR, WARNING) in Python using the logging module?\n",
    "import logging\n",
    "\n",
    "# Configure the logger\n",
    "logging.basicConfig(filename='app.log', level=logging.DEBUG, \n",
    "                    format='%(asctime)s - %(levelname)s - %(message)s')\n",
    "\n",
    "# Logging messages at different levels\n",
    "logging.debug(\"This is a debug message - for developers.\")\n",
    "logging.info(\"This is an info message - general status update.\")\n",
    "logging.warning(\"This is a warning message - something may be wrong.\")\n",
    "logging.error(\"This is an error message - something went wrong.\")\n",
    "logging.critical(\"This is a critical message - major failure.\")\n"
   ]
  },
  {
   "cell_type": "code",
   "execution_count": null,
   "id": "d83a2359-6101-42c8-a488-d054dc810c22",
   "metadata": {},
   "outputs": [],
   "source": [
    "#output \n",
    "2025-03-17 14:10:00,567 - DEBUG - This is a debug message - for developers.\n",
    "2025-03-17 14:10:00,568 - INFO - This is an info message - general status update.\n",
    "2025-03-17 14:10:00,568 - WARNING - This is a warning message - something may be wrong.\n",
    "2025-03-17 14:10:00,568 - ERROR - This is an error message - something went wrong.\n",
    "2025-03-17 14:10:00,568 - CRITICAL - This is a critical message - major failure.\n"
   ]
  },
  {
   "cell_type": "code",
   "execution_count": 26,
   "id": "c1ebdc5b-dd0b-424d-bee6-d17a46d16de7",
   "metadata": {},
   "outputs": [
    {
     "name": "stdout",
     "output_type": "stream",
     "text": [
      "Error: The file you are trying to open does not exist.\n"
     ]
    }
   ],
   "source": [
    "#(8) Write a program to handle a file opening error using exception handling.\n",
    "try:\n",
    "    # Attempt to open a non-existent file\n",
    "    with open(\"non_existing_file.txt\", \"r\") as file:\n",
    "        content = file.read()\n",
    "        print(content)\n",
    "except FileNotFoundError:\n",
    "    print(\"Error: The file you are trying to open does not exist.\")\n",
    "except PermissionError:\n",
    "    print(\"Error: You do not have permission to open this file.\")\n",
    "except Exception as e:\n",
    "    print(f\"An unexpected error occurred: {e}\")\n"
   ]
  },
  {
   "cell_type": "code",
   "execution_count": 28,
   "id": "74357556-0000-4184-9de2-c8d7e9bd623c",
   "metadata": {},
   "outputs": [
    {
     "name": "stdout",
     "output_type": "stream",
     "text": [
      "['Hello, this is a string written to the file.']\n"
     ]
    }
   ],
   "source": [
    "#(9)  How can you read a file line by line and store its content in a list in Python?\n",
    "with open(\"example.txt\", \"r\") as file:\n",
    "    lines = file.readlines()\n",
    "\n",
    "print(lines)\n"
   ]
  },
  {
   "cell_type": "code",
   "execution_count": 35,
   "id": "d5edf904-4814-438f-b4ef-e6ee245d827b",
   "metadata": {},
   "outputs": [
    {
     "name": "stdout",
     "output_type": "stream",
     "text": [
      "Data has been appended to the file.\n"
     ]
    }
   ],
   "source": [
    "#(10) How can you append data to an existing file in Python?\n",
    "# Open the file in append mode\n",
    "with open(\"example.txt\", \"a\") as file:\n",
    "    # Append data to the file\n",
    "    file.write(\"\\nThis is the appended text.\")\n",
    "    \n",
    "print(\"Data has been appended to the file.\")\n"
   ]
  },
  {
   "cell_type": "code",
   "execution_count": 37,
   "id": "b2c24ad2-e64c-452e-8224-a134a5ed2bfd",
   "metadata": {},
   "outputs": [
    {
     "name": "stdout",
     "output_type": "stream",
     "text": [
      "KeyError: The key 'profession' does not exist in the dictionary.\n"
     ]
    }
   ],
   "source": [
    "#(11) Write a Python program that uses a try-except block to handle an error when attempting to access a\n",
    "#     dictionary key that doesn't exist.\n",
    "# Define a dictionary\n",
    "my_dict = {\"name\": \"Akash\", \"age\": 30, \"city\": \"Mumbai\"}\n",
    "\n",
    "# Attempt to access a key\n",
    "try:\n",
    "    # Access a non-existent key\n",
    "    value = my_dict[\"profession\"]\n",
    "    print(\"Value:\", value)\n",
    "except KeyError as e:\n",
    "    # Handle the KeyError\n",
    "    print(f\"KeyError: The key '{e.args[0]}' does not exist in the dictionary.\")\n"
   ]
  },
  {
   "cell_type": "markdown",
   "id": "95c199a7-981c-49da-872f-e4b2e96ed76a",
   "metadata": {},
   "source": [
    "#(12) Write a program that demonstrates using multiple except blocks to handle different types of exceptions.\n",
    "try:\n",
    "    num = int(input(\"Enter a number: \"))\n",
    "    result = 10 / num\n",
    "    with open(\"non_existing_file.txt\", \"r\") as file:\n",
    "        content = file.read()\n",
    "except ValueError:\n",
    "    print(\"Error: Invalid input! Please enter a valid number.\")\n",
    "except ZeroDivisionError:\n",
    "    print(\"Error: Division by zero is not allowed.\")\n",
    "except FileNotFoundError:\n",
    "    print(\"Error: The file you are trying to open does not exist.\")\n",
    "except Exception as e:\n",
    "    print(f\"An unexpected error occurred: {e}\")\n",
    "else:\n",
    "    print(\"All operations completed successfully.\")\n",
    "finally:\n",
    "    print(\"Program execution finished.\")\n"
   ]
  },
  {
   "cell_type": "code",
   "execution_count": 40,
   "id": "ffb5a07b-44a7-43e2-835e-ec80b1c50794",
   "metadata": {},
   "outputs": [
    {
     "name": "stdout",
     "output_type": "stream",
     "text": [
      "Hello, this is a string written to the file.\n",
      "This is a new line being appended.\n",
      "Line 1\n",
      "Line 2\n",
      "Line 3\n",
      "This is the appended text.\n"
     ]
    }
   ],
   "source": [
    "#(12) How would you check if a file exists before attempting to read it in Python?\n",
    "import os\n",
    "\n",
    "if os.path.exists(\"example.txt\"):\n",
    "    with open(\"example.txt\", \"r\") as file:\n",
    "        content = file.read()\n",
    "        print(content)\n",
    "else:\n",
    "    print(\"Error: The file does not exist.\")\n"
   ]
  },
  {
   "cell_type": "code",
   "execution_count": 42,
   "id": "59905c17-13f8-4a92-9632-3e5e675ac999",
   "metadata": {},
   "outputs": [
    {
     "name": "stdin",
     "output_type": "stream",
     "text": [
      "Enter the numerator (integer):  12\n",
      "Enter the denominator (integer):  3\n"
     ]
    },
    {
     "name": "stdout",
     "output_type": "stream",
     "text": [
      "Error: The file you are trying to read does not exist.\n",
      "This block always runs (cleanup or final messages).\n"
     ]
    }
   ],
   "source": [
    "#(13) Write a program that demonstrates using multiple except blocks to handle different types of exceptions.\n",
    "try:\n",
    "    # Input from user\n",
    "    num1 = int(input(\"Enter the numerator (integer): \"))\n",
    "    num2 = int(input(\"Enter the denominator (integer): \"))\n",
    "    \n",
    "    # Division operation\n",
    "    result = num1 / num2\n",
    "    \n",
    "    # Try to open a file\n",
    "    with open(\"somefile.txt\", \"r\") as file:\n",
    "        data = file.read()\n",
    "    \n",
    "    print(\"Division result:\", result)\n",
    "    print(\"File content:\", data)\n",
    "    \n",
    "except ValueError:\n",
    "    print(\"Error: Please enter valid integers.\")\n",
    "except ZeroDivisionError:\n",
    "    print(\"Error: Denominator cannot be zero.\")\n",
    "except FileNotFoundError:\n",
    "    print(\"Error: The file you are trying to read does not exist.\")\n",
    "except Exception as e:\n",
    "    print(f\"An unexpected error occurred: {e}\")\n",
    "else:\n",
    "    print(\"Operations completed successfully.\")\n",
    "finally:\n",
    "    print(\"This block always runs (cleanup or final messages).\")\n"
   ]
  },
  {
   "cell_type": "code",
   "execution_count": 44,
   "id": "b43dd257-3922-4fbb-82a2-0030e6909133",
   "metadata": {},
   "outputs": [
    {
     "name": "stdin",
     "output_type": "stream",
     "text": [
      "Enter a number:  12\n"
     ]
    }
   ],
   "source": [
    "#(14)  Write a program that uses the logging module to log both informational and error messages.\n",
    "import logging\n",
    "\n",
    "# Configure logging\n",
    "logging.basicConfig(filename='app_log.txt', level=logging.DEBUG, \n",
    "                    format='%(asctime)s - %(levelname)s - %(message)s')\n",
    "\n",
    "# Log an informational message\n",
    "logging.info(\"Program started successfully.\")\n",
    "\n",
    "try:\n",
    "    # Example operation\n",
    "    num = int(input(\"Enter a number: \"))\n",
    "    result = 10 / num\n",
    "    logging.info(f\"Division successful. Result: {result}\")\n",
    "except ZeroDivisionError:\n",
    "    logging.error(\"Attempted division by zero.\")\n",
    "except ValueError:\n",
    "    logging.error(\"Invalid input. A number was expected.\")\n",
    "except Exception as e:\n",
    "    logging.error(f\"An unexpected error occurred: {e}\")\n",
    "else:\n",
    "    logging.info(\"No exceptions occurred.\")\n",
    "finally:\n",
    "    logging.info(\"Program execution completed.\")\n"
   ]
  },
  {
   "cell_type": "code",
   "execution_count": 46,
   "id": "4ec911b1-213c-401f-a907-7f152373da2b",
   "metadata": {},
   "outputs": [
    {
     "name": "stdout",
     "output_type": "stream",
     "text": [
      "File content:\n",
      "\n",
      "Hello, this is a string written to the file.\n",
      "This is a new line being appended.\n",
      "Line 1\n",
      "Line 2\n",
      "Line 3\n",
      "This is the appended text.\n"
     ]
    }
   ],
   "source": [
    "#(15) Write a Python program that prints the content of a file and handles the case when the file is empty?\n",
    "try:\n",
    "    with open(\"example.txt\", \"r\") as file:\n",
    "        content = file.read()\n",
    "        if not content.strip():\n",
    "            print(\"The file is empty.\")\n",
    "        else:\n",
    "            print(\"File content:\\n\")\n",
    "            print(content)\n",
    "except FileNotFoundError:\n",
    "    print(\"Error: The file does not exist.\")\n",
    "except Exception as e:\n",
    "    print(f\"An unexpected error occurred: {e}\")\n"
   ]
  },
  {
   "cell_type": "code",
   "execution_count": 52,
   "id": "39a69c38-3aae-4e51-8fb9-cd6924de60ed",
   "metadata": {},
   "outputs": [
    {
     "name": "stdout",
     "output_type": "stream",
     "text": [
      "KeyError: The key 'profession' does not exist in the dictionary.\n"
     ]
    }
   ],
   "source": [
    "#(16) Demonstrate how to use memory profiling to check the memory usage of a small program.\n",
    "\n",
    "\n",
    "# Define a dictionary\n",
    "my_dict = {\"name\": \"Akash\", \"age\": 30, \"city\": \"Mumbai\"}\n",
    "\n",
    "# Attempt to access a key\n",
    "try:\n",
    "    # Access a non-existent key\n",
    "    value = my_dict[\"profession\"]\n",
    "    print(\"Value:\", value)\n",
    "except KeyError as e:\n",
    "    # Handle the KeyError\n",
    "    print(f\"KeyError: The key '{e.args[0]}' does not exist in the dictionary.\")\n"
   ]
  },
  {
   "cell_type": "code",
   "execution_count": 54,
   "id": "f23a5edd-c0f8-4fb8-8afe-2ce209237366",
   "metadata": {},
   "outputs": [
    {
     "name": "stdout",
     "output_type": "stream",
     "text": [
      "Numbers have been written to numbers.txt.\n"
     ]
    }
   ],
   "source": [
    "#(17) Write a Python program to create and write a list of numbers to a file, one number per line.\n",
    "# List of numbers\n",
    "numbers = [1, 2, 3, 4, 5, 6, 7, 8, 9, 10]\n",
    "\n",
    "# Write to file\n",
    "with open(\"numbers.txt\", \"w\") as file:\n",
    "    for number in numbers:\n",
    "        file.write(f\"{number}\\n\")\n",
    "\n",
    "print(\"Numbers have been written to numbers.txt.\")\n"
   ]
  },
  {
   "cell_type": "code",
   "execution_count": 61,
   "id": "0289361c-d1bf-4315-ae51-2d4adf39f22c",
   "metadata": {},
   "outputs": [],
   "source": [
    "#(18) How would you implement a basic logging setup that logs to a file with rotation after 1MB?\n",
    "import logging\n",
    "from logging.handlers import RotatingFileHandler\n",
    "\n",
    "# Setup logger\n",
    "logger = logging.getLogger(\"MyLogger\")\n",
    "logger.setLevel(logging.DEBUG)\n",
    "\n",
    "# Create a RotatingFileHandler (rotate after 1MB, keep 3 backup files)\n",
    "handler = RotatingFileHandler(\"app.log\", maxBytes=1 * 1024 * 1024, backupCount=3)\n",
    "formatter = logging.Formatter('%(asctime)s - %(levelname)s - %(message)s')\n",
    "handler.setFormatter(formatter)\n",
    "\n",
    "# Add handler to logger\n",
    "logger.addHandler(handler)\n",
    "\n",
    "# Example logs to generate rotation\n",
    "for i in range(10000):\n",
    "    logger.info(f\"This is log entry number {i}\")\n"
   ]
  },
  {
   "cell_type": "code",
   "execution_count": null,
   "id": "e4a2d378-f135-49a6-87c6-f503b1f2459e",
   "metadata": {},
   "outputs": [],
   "source": [
    "#output\n",
    "app.log\n",
    "app.log.1\n",
    "app.log.2\n",
    "app.log.3\n"
   ]
  },
  {
   "cell_type": "code",
   "execution_count": 63,
   "id": "a57ec7f2-1b4e-41a2-b011-4d6b34141f0a",
   "metadata": {},
   "outputs": [
    {
     "name": "stdout",
     "output_type": "stream",
     "text": [
      "Error: List index out of range.\n",
      "Program execution finished.\n"
     ]
    }
   ],
   "source": [
    "#(19)Write a program that handles both IndexError and KeyError using a try-except block\n",
    "try:\n",
    "    # Trigger IndexError\n",
    "    my_list = [1, 2, 3]\n",
    "    print(my_list[5])  # Invalid index\n",
    "    \n",
    "    # Trigger KeyError\n",
    "    my_dict = {\"name\": \"Alice\", \"age\": 25}\n",
    "    print(my_dict[\"address\"])  # Invalid key\n",
    "    \n",
    "except IndexError:\n",
    "    print(\"Error: List index out of range.\")\n",
    "except KeyError:\n",
    "    print(\"Error: The specified key does not exist in the dictionary.\")\n",
    "except Exception as e:\n",
    "    print(f\"An unexpected error occurred: {e}\")\n",
    "else:\n",
    "    print(\"No exceptions occurred.\")\n",
    "finally:\n",
    "    print(\"Program execution finished.\")\n"
   ]
  },
  {
   "cell_type": "code",
   "execution_count": 65,
   "id": "99434ac8-16dd-48da-8a92-8c75b8bf3790",
   "metadata": {},
   "outputs": [
    {
     "name": "stdout",
     "output_type": "stream",
     "text": [
      "Hello, this is a string written to the file.\n",
      "This is a new line being appended.\n",
      "Line 1\n",
      "Line 2\n",
      "Line 3\n",
      "This is the appended text.\n"
     ]
    }
   ],
   "source": [
    "#(20)  How would you open a file and read its contents using a context manager in Python?\n",
    "# Open and read file using context manager\n",
    "with open(\"example.txt\", \"r\") as file:\n",
    "    content = file.read()\n",
    "    print(content)\n"
   ]
  },
  {
   "cell_type": "code",
   "execution_count": 67,
   "id": "83bbf19a-5818-4b6b-adbd-b3c8343b2cc8",
   "metadata": {},
   "outputs": [
    {
     "name": "stdout",
     "output_type": "stream",
     "text": [
      "The word 'python' occurs 0 times in the file.\n"
     ]
    }
   ],
   "source": [
    "#(21)  Write a Python program that reads a file and prints the number of occurrences of a specific word.\n",
    "# Define the word to search for\n",
    "word_to_search = \"python\"\n",
    "\n",
    "# Open and read the file\n",
    "try:\n",
    "    with open(\"example.txt\", \"r\") as file:\n",
    "        content = file.read()\n",
    "        \n",
    "        # Count the occurrences (case-insensitive)\n",
    "        count = content.lower().split().count(word_to_search.lower())\n",
    "        \n",
    "        print(f\"The word '{word_to_search}' occurs {count} times in the file.\")\n",
    "except FileNotFoundError:\n",
    "    print(\"Error: The file does not exist.\")\n",
    "except Exception as e:\n",
    "    print(f\"An unexpected error occurred: {e}\")\n"
   ]
  },
  {
   "cell_type": "code",
   "execution_count": 69,
   "id": "84911922-cc9a-4f62-bd2c-3be0936e8ee0",
   "metadata": {},
   "outputs": [
    {
     "name": "stdout",
     "output_type": "stream",
     "text": [
      "File content:\n",
      " Hello, this is a string written to the file.\n",
      "This is a new line being appended.\n",
      "Line 1\n",
      "Line 2\n",
      "Line 3\n",
      "This is the appended text.\n"
     ]
    }
   ],
   "source": [
    "#(22)  How can you check if a file is empty before attempting to read its contents?\n",
    "import os\n",
    "\n",
    "file_path = \"example.txt\"\n",
    "\n",
    "if os.path.exists(file_path):\n",
    "    if os.stat(file_path).st_size == 0:\n",
    "        print(\"The file is empty.\")\n",
    "    else:\n",
    "        with open(file_path, \"r\") as file:\n",
    "            content = file.read()\n",
    "            print(\"File content:\\n\", content)\n",
    "else:\n",
    "    print(\"The file does not exist.\")\n"
   ]
  },
  {
   "cell_type": "code",
   "execution_count": 71,
   "id": "a3002661-1e24-4af0-9037-3af9a14f105a",
   "metadata": {},
   "outputs": [
    {
     "name": "stdout",
     "output_type": "stream",
     "text": [
      "File content:\n",
      " Hello, this is a string written to the file.\n",
      "This is a new line being appended.\n",
      "Line 1\n",
      "Line 2\n",
      "Line 3\n",
      "This is the appended text.\n"
     ]
    }
   ],
   "source": [
    "#(23)  Write a Python program that writes to a log file when an error occurs during file handling.\n",
    "import logging\n",
    "\n",
    "# Configure logging\n",
    "logging.basicConfig(filename='file_errors.log', level=logging.ERROR,\n",
    "                    format='%(asctime)s - %(levelname)s - %(message)s')\n",
    "\n",
    "file_path = \"example.txt\"\n",
    "\n",
    "try:\n",
    "    with open(file_path, \"r\") as file:\n",
    "        content = file.read()\n",
    "        print(\"File content:\\n\", content)\n",
    "except FileNotFoundError:\n",
    "    logging.error(f\"File '{file_path}' not found.\")\n",
    "    print(\"Error: File not found.\")\n",
    "except PermissionError:\n",
    "    logging.error(f\"No permission to read file '{file_path}'.\")\n",
    "    print(\"Error: Permission denied.\")\n",
    "except Exception as e:\n",
    "    logging.error(f\"An unexpected error occurred: {e}\")\n",
    "    print(\"Error: Something went wrong.\")\n"
   ]
  },
  {
   "cell_type": "code",
   "execution_count": null,
   "id": "e024da51-d78a-4294-bd51-c8810fec71ae",
   "metadata": {},
   "outputs": [],
   "source": [
    "***************************THE END ****************************"
   ]
  }
 ],
 "metadata": {
  "kernelspec": {
   "display_name": "Python [conda env:base] *",
   "language": "python",
   "name": "conda-base-py"
  },
  "language_info": {
   "codemirror_mode": {
    "name": "ipython",
    "version": 3
   },
   "file_extension": ".py",
   "mimetype": "text/x-python",
   "name": "python",
   "nbconvert_exporter": "python",
   "pygments_lexer": "ipython3",
   "version": "3.12.7"
  }
 },
 "nbformat": 4,
 "nbformat_minor": 5
}
